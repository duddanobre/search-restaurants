{
 "cells": [
  {
   "cell_type": "code",
   "execution_count": null,
   "id": "b775e323",
   "metadata": {},
   "outputs": [],
   "source": [
    "%pip install matplotlib\n",
    "import matplotlib.pyplot as plt\n"
   ]
  },
  {
   "cell_type": "code",
   "execution_count": null,
   "id": "47490bf0",
   "metadata": {},
   "outputs": [],
   "source": [
    "import folium"
   ]
  },
  {
   "cell_type": "code",
   "execution_count": null,
   "id": "48221a83",
   "metadata": {},
   "outputs": [],
   "source": [
    "df.describe()"
   ]
  },
  {
   "cell_type": "code",
   "execution_count": null,
   "id": "6253e430",
   "metadata": {},
   "outputs": [],
   "source": [
    "plt.figure(dpi=300)\n",
    "plt.scatter(df['LON'],df['LAT'], edgecolors='black', lw=0.2)"
   ]
  },
  {
   "cell_type": "code",
   "execution_count": null,
   "id": "e584fde4",
   "metadata": {},
   "outputs": [],
   "source": [
    "mapa = folium.Map(location=[df['LAT'].mean(), df['LON'].mean()], zoom_start=12)"
   ]
  },
  {
   "cell_type": "code",
   "execution_count": null,
   "id": "51cd3fb6",
   "metadata": {},
   "outputs": [],
   "source": [
    "mapa"
   ]
  },
  {
   "cell_type": "code",
   "execution_count": null,
   "id": "73358967",
   "metadata": {},
   "outputs": [],
   "source": [
    "marcador1=folium.Marker(location=(-3.785379,-38.503922),popup='Minha posicao',tooltip='Meu texto')"
   ]
  },
  {
   "cell_type": "code",
   "execution_count": null,
   "id": "c867e91f",
   "metadata": {},
   "outputs": [],
   "source": [
    "marcador1"
   ]
  },
  {
   "cell_type": "code",
   "execution_count": null,
   "id": "d8655f06",
   "metadata": {},
   "outputs": [],
   "source": [
    "marcador1.add_to(mapa)"
   ]
  },
  {
   "cell_type": "code",
   "execution_count": null,
   "id": "ed39696a",
   "metadata": {},
   "outputs": [],
   "source": [
    "mapa"
   ]
  },
  {
   "cell_type": "code",
   "execution_count": null,
   "id": "d665afc2",
   "metadata": {},
   "outputs": [],
   "source": [
    "mapa=folium.Map(location=(df_cnae['LAT'].mean(),df_cnae['LON'].mean()),zoom_start=12)\n",
    "for i in range(len(df_cnae)):\n",
    "    marcador=folium.Marker(location=(df_cnae['LAT'].iloc[i],df_cnae['LON'].iloc[i]),popup=df_cnae['NOME FANTASIA'].iloc[i],icon=folium.Icon(color='green'))\n",
    "    marcador.add_to(mapa)"
   ]
  },
  {
   "cell_type": "code",
   "execution_count": null,
   "id": "805f5b4b",
   "metadata": {},
   "outputs": [],
   "source": [
    "from geopy.geocoders import Nominatim"
   ]
  },
  {
   "cell_type": "code",
   "execution_count": null,
   "id": "e4393a25",
   "metadata": {},
   "outputs": [],
   "source": [
    "endereco = input(\"Digite sua localização: \")\n",
    "geolocator=Nominatim(user_agent='geoapi')\n",
    "location=geolocator.geocode(endereco)"
   ]
  },
  {
   "cell_type": "code",
   "execution_count": null,
   "id": "c5b6fec9",
   "metadata": {},
   "outputs": [],
   "source": [
    "location.address"
   ]
  },
  {
   "cell_type": "code",
   "execution_count": null,
   "id": "347000b6",
   "metadata": {},
   "outputs": [],
   "source": [
    "lat=location.latitude\n",
    "lon=location.longitude"
   ]
  },
  {
   "cell_type": "code",
   "execution_count": null,
   "id": "7bf04bce",
   "metadata": {},
   "outputs": [],
   "source": [
    "marcador=folium.Marker(location=(lat,lon),popup='CASA DO JORGE',icon=folium.Icon(color='red'))\n",
    "marcador.add_to(mapa)"
   ]
  },
  {
   "cell_type": "code",
   "execution_count": null,
   "id": "da0d5797",
   "metadata": {},
   "outputs": [],
   "source": []
  }
 ],
 "metadata": {
  "kernelspec": {
   "display_name": ".venv",
   "language": "python",
   "name": "python3"
  },
  "language_info": {
   "codemirror_mode": {
    "name": "ipython",
    "version": 3
   },
   "file_extension": ".py",
   "mimetype": "text/x-python",
   "name": "python",
   "nbconvert_exporter": "python",
   "pygments_lexer": "ipython3",
   "version": "3.11.9"
  }
 },
 "nbformat": 4,
 "nbformat_minor": 5
}
